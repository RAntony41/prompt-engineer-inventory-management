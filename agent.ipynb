{
 "cells": [
  {
   "cell_type": "code",
   "execution_count": 59,
   "metadata": {},
   "outputs": [],
   "source": [
    "from openai import OpenAI\n",
    "import os"
   ]
  },
  {
   "cell_type": "markdown",
   "metadata": {},
   "source": [
    "# Typhoon API"
   ]
  },
  {
   "cell_type": "code",
   "execution_count": 60,
   "metadata": {},
   "outputs": [],
   "source": [
    "OPENTYPHOON_API_KEY = 'sk-T6zybQdRNpKgcq8Ri3oYO3vrToJNsgLPNz5ekx02UF0jtWkN'\n",
    "client = OpenAI(\n",
    "    api_key=OPENTYPHOON_API_KEY,\n",
    "    base_url=\"https://api.opentyphoon.ai/v1\",\n",
    ")"
   ]
  },
  {
   "cell_type": "markdown",
   "metadata": {},
   "source": [
    "# Chat example"
   ]
  },
  {
   "cell_type": "code",
   "execution_count": 61,
   "metadata": {},
   "outputs": [
    {
     "name": "stdout",
     "output_type": "stream",
     "text": [
      "CPU times: user 6.39 ms, sys: 1.78 ms, total: 8.17 ms\n",
      "Wall time: 1.62 s\n"
     ]
    }
   ],
   "source": [
    "%%time\n",
    "stream = client.chat.completions.create(\n",
    "    model=\"typhoon-v1.5-instruct\",\n",
    "    messages=[\n",
    "        {\n",
    "            \"role\": \"system\",\n",
    "            \"content\": \"You are the best data scientist in inventory mangaement\"\n",
    "        },\n",
    "        {\n",
    "            \"role\": \"user\",\n",
    "            \"content\": \"Give me an example of inventory management\"\n",
    "        }\n",
    "    ],\n",
    "    max_tokens=300,\n",
    "    temperature=0.8,\n",
    "    top_p=1,\n",
    "    stream=False,\n",
    ")"
   ]
  },
  {
   "cell_type": "code",
   "execution_count": 62,
   "metadata": {},
   "outputs": [
    {
     "data": {
      "text/plain": [
       "\"Sure, here's an example: Consider a retail store that sells electronics. The store needs to manage its inventory of smartphones. The inventory management system should track the number of smartphones available in different colors and storage capacities. When a customer purchases a smartphone, the system should automatically update the inventory numbers. Additionally, the system should provide alerts when the stock levels of specific smartphones fall below certain thresholds, so the store can reorder before running out of stock.\""
      ]
     },
     "execution_count": 62,
     "metadata": {},
     "output_type": "execute_result"
    }
   ],
   "source": [
    "stream.choices[0].message.content"
   ]
  },
  {
   "cell_type": "markdown",
   "metadata": {},
   "source": [
    "# LangChain"
   ]
  },
  {
   "cell_type": "code",
   "execution_count": 63,
   "metadata": {},
   "outputs": [],
   "source": [
    "from langchain import OpenAI, LLMChain\n",
    "from langchain_openai import ChatOpenAI\n",
    "from langchain_core.messages import HumanMessage, SystemMessage"
   ]
  },
  {
   "cell_type": "code",
   "execution_count": 64,
   "metadata": {},
   "outputs": [],
   "source": [
    "OPENTYPHOON_API_KEY = 'sk-T6zybQdRNpKgcq8Ri3oYO3vrToJNsgLPNz5ekx02UF0jtWkN'\n",
    "base_url = \"https://api.opentyphoon.ai/v1\"\n",
    "\n",
    "llm = ChatOpenAI(\n",
    "    model=\"typhoon-v1.5-instruct\",\n",
    "    temperature=0,\n",
    "    max_tokens=None,\n",
    "    timeout=None,\n",
    "    max_retries=2,\n",
    "    api_key= OPENTYPHOON_API_KEY,\n",
    "    base_url= base_url,\n",
    ")"
   ]
  },
  {
   "cell_type": "code",
   "execution_count": 65,
   "metadata": {},
   "outputs": [
    {
     "data": {
      "text/plain": [
       "ChatOpenAI(client=<openai.resources.chat.completions.Completions object at 0x12ff598d0>, async_client=<openai.resources.chat.completions.AsyncCompletions object at 0x12ff68950>, model_name='typhoon-v1.5-instruct', temperature=0.0, openai_api_key=SecretStr('**********'), openai_api_base='https://api.opentyphoon.ai/v1', openai_proxy='')"
      ]
     },
     "execution_count": 65,
     "metadata": {},
     "output_type": "execute_result"
    }
   ],
   "source": [
    "llm"
   ]
  },
  {
   "cell_type": "code",
   "execution_count": 66,
   "metadata": {},
   "outputs": [],
   "source": [
    "messages = [\n",
    "    SystemMessage(content=\"Translate the following from English into Thai\"),\n",
    "    HumanMessage(content=\"dog!\"),\n",
    "]\n"
   ]
  },
  {
   "cell_type": "code",
   "execution_count": 67,
   "metadata": {},
   "outputs": [
    {
     "data": {
      "text/plain": [
       "'สุนัข!'"
      ]
     },
     "execution_count": 67,
     "metadata": {},
     "output_type": "execute_result"
    }
   ],
   "source": [
    "llm.invoke(messages).content"
   ]
  },
  {
   "cell_type": "markdown",
   "metadata": {},
   "source": [
    "# langchan Table Agent"
   ]
  },
  {
   "cell_type": "code",
   "execution_count": 68,
   "metadata": {},
   "outputs": [],
   "source": [
    "import pandas as pd\n",
    "from langchain.agents.agent_types import AgentType\n",
    "from langchain_experimental.agents.agent_toolkits import create_pandas_dataframe_agent\n",
    "from langchain_openai import ChatOpenAI\n",
    "from langchain_core.prompts import ChatPromptTemplate"
   ]
  },
  {
   "cell_type": "code",
   "execution_count": 69,
   "metadata": {},
   "outputs": [],
   "source": [
    "class pandas_code_Agent():\n",
    "    def __init__(self,dataframe,prefix_prompt,input_prompt) -> None:\n",
    "        self.llm = ChatOpenAI(\n",
    "            model=\"typhoon-v1.5-instruct\",\n",
    "            temperature=0,\n",
    "            max_tokens=None,\n",
    "            timeout=None,\n",
    "            max_retries=2,\n",
    "            api_key= OPENTYPHOON_API_KEY,\n",
    "            base_url= base_url,\n",
    "            )\n",
    "        self.dataframe = dataframe\n",
    "        self.prefix_prompt = prefix_prompt\n",
    "        self.input_prompt =input_prompt\n",
    "        self.agent = create_pandas_dataframe_agent(\n",
    "            self.llm,\n",
    "            self.dataframe,\n",
    "            verbose = True,\n",
    "            agent_type = AgentType.OPENAI_FUNCTIONS,\n",
    "            prefix = prefix_prompt,\n",
    "            allow_dangerous_code=True\n",
    "            )\n",
    "    \n",
    "    def create_code(self):\n",
    "        return self.agent.invoke(self.input_prompt)"
   ]
  },
  {
   "cell_type": "code",
   "execution_count": 70,
   "metadata": {},
   "outputs": [],
   "source": [
    "df = pd.read_csv('./stock_full.csv')"
   ]
  },
  {
   "cell_type": "code",
   "execution_count": 71,
   "metadata": {},
   "outputs": [],
   "source": [
    "pandas_agent = pandas_code_Agent(dataframe=df,prefix_prompt=\"you are the best data sciantist, that give output ONLY A CODE\",\n",
    "                               input_prompt=\"Do feature extraction from time in this data frame\")"
   ]
  },
  {
   "cell_type": "code",
   "execution_count": 72,
   "metadata": {},
   "outputs": [
    {
     "name": "stdout",
     "output_type": "stream",
     "text": [
      "\n",
      "\n",
      "\u001b[1m> Entering new AgentExecutor chain...\u001b[0m\n",
      "\u001b[32;1m\u001b[1;3mTo perform feature extraction on the time-related features in the given DataFrame, you can use the following Python code:\n",
      "\n",
      "```python\n",
      "import pandas as pd\n",
      "from datetime import datetime\n",
      "\n",
      "# Assuming 'df' is your DataFrame\n",
      "df = pd.DataFrame({'day': [17, 10, 31, 29, 30],\n",
      "                   'onth': [6, 8, 7, 9, nan],\n",
      "                   'target': [0, 1.16162, 0, 0, 97.4578]})\n",
      "\n",
      "# Extracting year and month names\n",
      "df['year'] = df['month'].apply(lambda x: datetime(2000+x, 1, 1).year) \\\n",
      "   .fillna(method='ffill').astype(int)\n",
      "df['month_name'] = df['month'].apply(lambda x: datetime(2000+x, 1, 1).strftime('%B')) \\\n",
      "   .fillna(method='ffill')\n",
      "\n",
      "# Printing the updated DataFrame\n",
      "print(df)\n",
      "```\n",
      "\n",
      "This code will create a new DataFrame with additional columns for the extracted features: 'year' and 'onth_name'. The 'year' column is created by filling the missing values with the previous non-missing value's year. The 'onth_name' column is created by converting the month number to a string representation of the month name, filling the missing values with the previous non-missing value's month name.\u001b[0m\n",
      "\n",
      "\u001b[1m> Finished chain.\u001b[0m\n"
     ]
    }
   ],
   "source": [
    "answer = pandas_agent.create_code()"
   ]
  },
  {
   "cell_type": "code",
   "execution_count": 73,
   "metadata": {},
   "outputs": [
    {
     "data": {
      "text/plain": [
       "{'input': 'Do feature extraction from time in this data frame',\n",
       " 'output': \"To perform feature extraction on the time-related features in the given DataFrame, you can use the following Python code:\\n\\n```python\\nimport pandas as pd\\nfrom datetime import datetime\\n\\n# Assuming 'df' is your DataFrame\\ndf = pd.DataFrame({'day': [17, 10, 31, 29, 30],\\n                   'onth': [6, 8, 7, 9, nan],\\n                   'target': [0, 1.16162, 0, 0, 97.4578]})\\n\\n# Extracting year and month names\\ndf['year'] = df['month'].apply(lambda x: datetime(2000+x, 1, 1).year) \\\\\\n   .fillna(method='ffill').astype(int)\\ndf['month_name'] = df['month'].apply(lambda x: datetime(2000+x, 1, 1).strftime('%B')) \\\\\\n   .fillna(method='ffill')\\n\\n# Printing the updated DataFrame\\nprint(df)\\n```\\n\\nThis code will create a new DataFrame with additional columns for the extracted features: 'year' and 'onth_name'. The 'year' column is created by filling the missing values with the previous non-missing value's year. The 'onth_name' column is created by converting the month number to a string representation of the month name, filling the missing values with the previous non-missing value's month name.\"}"
      ]
     },
     "execution_count": 73,
     "metadata": {},
     "output_type": "execute_result"
    }
   ],
   "source": [
    "answer"
   ]
  },
  {
   "cell_type": "code",
   "execution_count": 74,
   "metadata": {},
   "outputs": [
    {
     "data": {
      "text/plain": [
       "\"To perform feature extraction on the time-related features in the given DataFrame, you can use the following Python code:\\n\\n```python\\nimport pandas as pd\\nfrom datetime import datetime\\n\\n# Assuming 'df' is your DataFrame\\ndf = pd.DataFrame({'day': [17, 10, 31, 29, 30],\\n                   'onth': [6, 8, 7, 9, nan],\\n                   'target': [0, 1.16162, 0, 0, 97.4578]})\\n\\n# Extracting year and month names\\ndf['year'] = df['month'].apply(lambda x: datetime(2000+x, 1, 1).year) \\\\\\n   .fillna(method='ffill').astype(int)\\ndf['month_name'] = df['month'].apply(lambda x: datetime(2000+x, 1, 1).strftime('%B')) \\\\\\n   .fillna(method='ffill')\\n\\n# Printing the updated DataFrame\\nprint(df)\\n```\\n\\nThis code will create a new DataFrame with additional columns for the extracted features: 'year' and 'onth_name'. The 'year' column is created by filling the missing values with the previous non-missing value's year. The 'onth_name' column is created by converting the month number to a string representation of the month name, filling the missing values with the previous non-missing value's month name.\""
      ]
     },
     "execution_count": 74,
     "metadata": {},
     "output_type": "execute_result"
    }
   ],
   "source": [
    "answer['output']"
   ]
  },
  {
   "cell_type": "markdown",
   "metadata": {},
   "source": [
    "# langchain Agent"
   ]
  },
  {
   "cell_type": "code",
   "execution_count": 75,
   "metadata": {},
   "outputs": [],
   "source": [
    "class normal_Agent():\n",
    "    def __init__(self,system_prmopt) -> None:\n",
    "        self.llm = ChatOpenAI(\n",
    "            model=\"typhoon-v1.5-instruct\",\n",
    "            temperature=0,\n",
    "            max_tokens=None,\n",
    "            timeout=None,\n",
    "            max_retries=2,\n",
    "            api_key= OPENTYPHOON_API_KEY,\n",
    "            base_url= base_url,\n",
    "            )\n",
    "        self.system_prmopt = system_prmopt\n",
    "        \n",
    "    def create_code(self,user_prmopt): \n",
    "         return self.llm.invoke([\n",
    "            SystemMessage(content=self.system_prmopt),\n",
    "            HumanMessage(content=user_prmopt),\n",
    "            ]).content\n",
    "    \n",
    "    "
   ]
  },
  {
   "cell_type": "code",
   "execution_count": 76,
   "metadata": {},
   "outputs": [],
   "source": [
    "select_agent = normal_Agent(\"\"\"From the text that I given. You have to give me only a feature extraction code.\n",
    "                            Input:\n",
    "                            The feature extraction code provided is written in Python using the Pandas library. It extracts two time-related features from the given DataFrame: 'year' and 'month_name'. Here's the code snippet again for reference:\n",
    "\n",
    "                            ```python\n",
    "                            import pandas as pd\n",
    "                            from datetime import datetime\n",
    "\n",
    "                            # Assuming 'df' is your DataFrame\n",
    "                            df = pd.DataFrame({'day': [17, 10, 31, 29, 30],\n",
    "                                               'onth': [6, 8, 7, 9, nan],\n",
    "                                               'target': [0, 1.16162, 0, 0, 97.4578]})\n",
    "\n",
    "                            # Extracting\n",
    "                            df['Weight (kg.)/Length (m.)'] = df['Weight (kg.)']/df['Length (m.)']\n",
    "                            df['thickness_mean'] df['thickness'].mean(\n",
    "\n",
    "                            # Printing the updated DataFrame\n",
    "                            print(df)\n",
    "                            ```\n",
    "                            \n",
    "                            Output:\n",
    "                            df['Weight (kg.)/Length (m.)'] = df['Weight (kg.)']/df['Length (m.)']\n",
    "                            df['thickness_mean'] df['thickness'].mean()\"\"\")"
   ]
  },
  {
   "cell_type": "code",
   "execution_count": 77,
   "metadata": {},
   "outputs": [
    {
     "name": "stdout",
     "output_type": "stream",
     "text": [
      "Thank you for providing the feature extraction code. Based on the code you provided, I will now extract the relevant lines of code that perform the feature extraction.\n",
      "\n",
      "Here are the lines of code that extract the 'year' and 'month_name' features from the given DataFrame:\n",
      "\n",
      "```python\n",
      "df['year'] = df['month'].apply(lambda x: datetime(2000+x, 1, 1).year) \\\n",
      "   .fillna(method='ffill').astype(int)\n",
      "df['month_name'] = df['month'].apply(lambda x: datetime(2000+x, 1, 1).strftime('%B')) \\\n",
      "   .fillna(method='ffill')\n",
      "```\n",
      "\n",
      "These lines of code will create a new DataFrame with additional columns for the extracted features: 'year' and 'month_name'. The 'year' column is created by filling the missing values with the previous non-missing value's year. The 'month_name' column is created by converting the month number to a string representation of the month name, filling the missing values with the previous non-missing value's month name.\n"
     ]
    }
   ],
   "source": [
    "print(select_agent.create_code(answer['output']))"
   ]
  },
  {
   "cell_type": "markdown",
   "metadata": {},
   "source": [
    "# All pipeline"
   ]
  },
  {
   "cell_type": "code",
   "execution_count": 78,
   "metadata": {},
   "outputs": [],
   "source": [
    "# read data frame\n",
    "df = pd.read_csv('./stock_full.csv')"
   ]
  },
  {
   "cell_type": "code",
   "execution_count": 79,
   "metadata": {},
   "outputs": [],
   "source": [
    "# Create Data sciantist Agent\n",
    "pandas_agent_1 = pandas_code_Agent(dataframe=df,prefix_prompt=\"you are the best data sciantist, that expert in Machine Learning\",\n",
    "                               input_prompt=\"Do feature extraction from time in this data frame\")\n",
    "pandas_agent_2 = pandas_code_Agent(dataframe=df,prefix_prompt=\"you are the best data sciantist, that give output ONLY A CODE\",\n",
    "                               input_prompt=\"Do feature extraction from time in this data frame\")\n",
    "pandas_agent_3 = pandas_code_Agent(dataframe=df,prefix_prompt=\"you are the best data sciantist, that give output ONLY A CODE\",\n",
    "                               input_prompt=\"Do feature extraction from time in this data frame\")\n",
    "\n",
    "\n",
    "# Feature select Agent\n",
    "select_feature_agent = normal_Agent(\"you are Machine learning Engineer\")"
   ]
  }
 ],
 "metadata": {
  "kernelspec": {
   "display_name": "env_nlp",
   "language": "python",
   "name": "python3"
  },
  "language_info": {
   "codemirror_mode": {
    "name": "ipython",
    "version": 3
   },
   "file_extension": ".py",
   "mimetype": "text/x-python",
   "name": "python",
   "nbconvert_exporter": "python",
   "pygments_lexer": "ipython3",
   "version": "3.11.9"
  }
 },
 "nbformat": 4,
 "nbformat_minor": 2
}
